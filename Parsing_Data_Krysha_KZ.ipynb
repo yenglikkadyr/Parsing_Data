{
 "cells": [
  {
   "cell_type": "code",
   "execution_count": 1,
   "metadata": {
    "colab": {
     "base_uri": "https://localhost:8080/"
    },
    "id": "0_YgG8L3a64P",
    "outputId": "25e17f5d-6ba3-4ccd-fab7-1ba6a1d81433"
   },
   "outputs": [
    {
     "name": "stdout",
     "output_type": "stream",
     "text": [
      "Requirement already satisfied: selenium in c:\\anaconda\\lib\\site-packages (3.141.0)\n",
      "Requirement already satisfied: urllib3 in c:\\anaconda\\lib\\site-packages (from selenium) (1.25.11)\n"
     ]
    }
   ],
   "source": [
    "!pip install selenium\n",
    "from selenium import webdriver"
   ]
  },
  {
   "cell_type": "code",
   "execution_count": 2,
   "metadata": {
    "id": "zKrbMP3cbfyx"
   },
   "outputs": [],
   "source": [
    "import pandas as pd\n",
    "import requests\n",
    "import numpy as np\n",
    "from bs4 import BeautifulSoup as BS\n",
    "import time\n",
    "from time import sleep\n",
    "import csv"
   ]
  },
  {
   "cell_type": "code",
   "execution_count": 3,
   "metadata": {
    "id": "_dFkU40feFqX"
   },
   "outputs": [],
   "source": [
    "req_link = requests.get('https://krisha.kz/prodazha/kvartiry/astana-esilskij/?das[live.rooms]=5.100')\n",
    "html = BS(req_link.content, 'lxml')"
   ]
  },
  {
   "cell_type": "code",
   "execution_count": 4,
   "metadata": {
    "id": "UVivOHHaeKVr"
   },
   "outputs": [],
   "source": [
    "body = html.select('body')[0]"
   ]
  },
  {
   "cell_type": "code",
   "execution_count": 5,
   "metadata": {
    "colab": {
     "base_uri": "https://localhost:8080/"
    },
    "id": "wE8_cOaDgC9g",
    "outputId": "502cb779-3826-4cda-eae5-fb52fd46561f"
   },
   "outputs": [
    {
     "name": "stdout",
     "output_type": "stream",
     "text": [
      "1\n",
      "2\n",
      "3\n",
      "4\n",
      "5\n",
      "6\n",
      "7\n",
      "8\n",
      "9\n",
      "10\n",
      "11\n",
      "12\n",
      "Finished\n"
     ]
    }
   ],
   "source": [
    "apartment_list = []\n",
    "pagination_list = ['https://krisha.kz/prodazha/kvartiry/astana-esilskij/?das[live.rooms]=5.100']\n",
    "counter = 0\n",
    "\n",
    "#TO GET ALL LINKS FOR EACH OF APARTMENTS\n",
    "for htmlpage in pagination_list:\n",
    "  #get content of the website\n",
    "  req_link = requests.get(htmlpage)\n",
    "  pagecontent = BS(req_link.content, 'lxml')\n",
    "\n",
    "  #get all links for each of apartments\n",
    "  a_tags = pagecontent.find_all('a',class_='a-card__image')\n",
    "  for a_tag_href in a_tags:\n",
    "    apartment_list.append('https://krisha.kz' + a_tag_href['href'])\n",
    "\n",
    "  #look for next button\n",
    "  try:\n",
    "    #if(len(pagination_list)!=1):\n",
    "    next_page = pagecontent.find('a', class_='paginator__btn paginator__btn--next')\n",
    "    next_page_url = next_page['href']\n",
    "    pagination_list.append('https://krisha.kz' + next_page_url)\n",
    "    counter = counter + 1\n",
    "    print(counter)\n",
    "  except:\n",
    "    print(\"Finished\")"
   ]
  },
  {
   "cell_type": "code",
   "execution_count": 6,
   "metadata": {
    "colab": {
     "base_uri": "https://localhost:8080/"
    },
    "id": "EGjNIxbLLi1B",
    "outputId": "b99cca15-4336-44da-daf4-efe0e392fc2e"
   },
   "outputs": [
    {
     "name": "stdout",
     "output_type": "stream",
     "text": [
      "248\n"
     ]
    }
   ],
   "source": [
    "print(len(apartment_list))"
   ]
  },
  {
   "cell_type": "code",
   "execution_count": null,
   "metadata": {
    "colab": {
     "base_uri": "https://localhost:8080/"
    },
    "id": "vY0ygwsVlULZ",
    "outputId": "30bd5b5c-2bd6-4cd9-df58-bd9b09e06305"
   },
   "outputs": [
    {
     "name": "stdout",
     "output_type": "stream",
     "text": [
      "https://krisha.kz/a/show/665483147\n",
      "1\n",
      "https://krisha.kz/a/show/665483146\n",
      "2\n",
      "https://krisha.kz/a/show/666754083\n",
      "3\n",
      "https://krisha.kz/a/show/668321003\n",
      "4\n",
      "https://krisha.kz/a/show/667690377\n",
      "5\n",
      "https://krisha.kz/a/show/667443927\n",
      "6\n",
      "https://krisha.kz/a/show/668127509\n",
      "7\n",
      "https://krisha.kz/a/show/668009326\n",
      "8\n",
      "https://krisha.kz/a/show/668375934\n",
      "9\n",
      "https://krisha.kz/a/show/661526156\n",
      "10\n",
      "https://krisha.kz/a/show/54859829\n",
      "11\n",
      "https://krisha.kz/a/show/57721714\n",
      "12\n",
      "https://krisha.kz/a/show/668283125\n",
      "13\n",
      "https://krisha.kz/a/show/666725004\n",
      "14\n",
      "https://krisha.kz/a/show/667838121\n",
      "15\n",
      "https://krisha.kz/a/show/667270209\n",
      "16\n",
      "https://krisha.kz/a/show/52303300\n",
      "17\n",
      "https://krisha.kz/a/show/664043940\n",
      "18\n",
      "https://krisha.kz/a/show/668319153\n",
      "19\n",
      "https://krisha.kz/a/show/668211412\n",
      "20\n",
      "https://krisha.kz/a/show/665626625\n",
      "21\n",
      "https://krisha.kz/a/show/668057831\n",
      "22\n",
      "https://krisha.kz/a/show/666754083\n",
      "23\n",
      "https://krisha.kz/a/show/667109148\n",
      "24\n",
      "https://krisha.kz/a/show/665080631\n",
      "25\n",
      "https://krisha.kz/a/show/666484786\n",
      "26\n",
      "https://krisha.kz/a/show/54594198\n",
      "27\n",
      "https://krisha.kz/a/show/667615843\n",
      "28\n",
      "https://krisha.kz/a/show/47801692\n",
      "29\n",
      "https://krisha.kz/a/show/667818870\n",
      "30\n",
      "https://krisha.kz/a/show/665885687\n",
      "31\n",
      "https://krisha.kz/a/show/663523140\n",
      "32\n",
      "https://krisha.kz/a/show/57226385\n",
      "33\n",
      "https://krisha.kz/a/show/664953136\n",
      "34\n",
      "https://krisha.kz/a/show/665226305\n",
      "35\n",
      "https://krisha.kz/a/show/668445749\n",
      "36\n",
      "https://krisha.kz/a/show/668284799\n",
      "37\n",
      "https://krisha.kz/a/show/668443966\n",
      "38\n",
      "https://krisha.kz/a/show/666907194\n",
      "39\n",
      "https://krisha.kz/a/show/664977941\n",
      "40\n",
      "https://krisha.kz/a/show/662027641\n",
      "41\n",
      "https://krisha.kz/a/show/668441383\n",
      "42\n",
      "https://krisha.kz/a/show/666875120\n",
      "43\n",
      "https://krisha.kz/a/show/53828012\n",
      "44\n",
      "https://krisha.kz/a/show/53827883\n",
      "45\n",
      "https://krisha.kz/a/show/666033070\n",
      "46\n",
      "https://krisha.kz/a/show/667423404\n",
      "47\n",
      "https://krisha.kz/a/show/666684084\n",
      "48\n",
      "https://krisha.kz/a/show/668272422\n",
      "49\n",
      "https://krisha.kz/a/show/667357261\n",
      "50\n",
      "https://krisha.kz/a/show/668350162\n",
      "51\n",
      "https://krisha.kz/a/show/666809186\n",
      "52\n",
      "https://krisha.kz/a/show/668358805\n",
      "53\n",
      "https://krisha.kz/a/show/666547217\n",
      "54\n",
      "https://krisha.kz/a/show/667491867\n",
      "55\n",
      "https://krisha.kz/a/show/660738253\n",
      "56\n",
      "https://krisha.kz/a/show/666036639\n",
      "57\n",
      "https://krisha.kz/a/show/668173184\n",
      "58\n",
      "https://krisha.kz/a/show/667491141\n",
      "59\n",
      "https://krisha.kz/a/show/665847288\n",
      "60\n",
      "https://krisha.kz/a/show/663908509\n",
      "61\n",
      "https://krisha.kz/a/show/667690114\n",
      "62\n",
      "https://krisha.kz/a/show/666213166\n",
      "63\n",
      "https://krisha.kz/a/show/661054117\n",
      "64\n",
      "https://krisha.kz/a/show/660650332\n",
      "65\n",
      "https://krisha.kz/a/show/664965824\n",
      "66\n",
      "https://krisha.kz/a/show/668430558\n",
      "67\n",
      "https://krisha.kz/a/show/664418371\n",
      "68\n",
      "https://krisha.kz/a/show/667422710\n",
      "69\n",
      "https://krisha.kz/a/show/30820641\n",
      "70\n",
      "https://krisha.kz/a/show/30824048\n",
      "71\n",
      "https://krisha.kz/a/show/30822847\n",
      "72\n",
      "https://krisha.kz/a/show/666147388\n",
      "73\n",
      "https://krisha.kz/a/show/48718900\n",
      "74\n",
      "https://krisha.kz/a/show/668423424\n",
      "75\n",
      "https://krisha.kz/a/show/666126357\n",
      "76\n",
      "https://krisha.kz/a/show/660739053\n",
      "77\n",
      "https://krisha.kz/a/show/667367393\n",
      "78\n",
      "https://krisha.kz/a/show/668421915\n",
      "79\n",
      "https://krisha.kz/a/show/667865641\n",
      "80\n",
      "https://krisha.kz/a/show/665080616\n",
      "81\n",
      "https://krisha.kz/a/show/666815097\n",
      "82\n",
      "https://krisha.kz/a/show/668419151\n",
      "83\n",
      "https://krisha.kz/a/show/668082455\n",
      "84\n",
      "https://krisha.kz/a/show/668417552\n",
      "85\n",
      "https://krisha.kz/a/show/662388420\n",
      "86\n",
      "https://krisha.kz/a/show/668417538\n",
      "87\n",
      "https://krisha.kz/a/show/667144412\n",
      "88\n",
      "https://krisha.kz/a/show/668414993\n",
      "89\n",
      "https://krisha.kz/a/show/668090433\n",
      "90\n",
      "https://krisha.kz/a/show/668012632\n",
      "91\n",
      "https://krisha.kz/a/show/666409257\n",
      "92\n",
      "https://krisha.kz/a/show/665807439\n",
      "93\n",
      "https://krisha.kz/a/show/662011437\n",
      "94\n",
      "https://krisha.kz/a/show/27595974\n",
      "95\n",
      "https://krisha.kz/a/show/27595867\n",
      "96\n",
      "https://krisha.kz/a/show/27596027\n",
      "97\n",
      "https://krisha.kz/a/show/666764532\n",
      "98\n",
      "https://krisha.kz/a/show/667911670\n",
      "99\n",
      "https://krisha.kz/a/show/661915006\n"
     ]
    }
   ],
   "source": [
    "apartment_df = []\n",
    "counter = 0\n",
    "\n",
    "for aprtmt_page in apartment_list:\n",
    "  print(aprtmt_page)\n",
    "  #neccessary atributes\n",
    "  title = ''\n",
    "  price = ''\n",
    "  phone = ''\n",
    "  city=''\n",
    "  building=''\n",
    "  floor=''\n",
    "  area=''\n",
    "  status=''\n",
    "  bathroom=''\n",
    "  balcony=''\n",
    "  owner=''\n",
    "\n",
    "  counter = counter + 1\n",
    "  #get content of the apartment page\n",
    "  req_link = requests.get(aprtmt_page)\n",
    "  pagecontent = BS(req_link.content, 'lxml')\n",
    "\n",
    "  #title\n",
    "  try:\n",
    "    title = pagecontent.select('div.offer__advert-title > h1')[0]\n",
    "    title = title.get_text(strip=True)\n",
    "  except:\n",
    "    title = ''\n",
    "\n",
    "  #price\n",
    "  try:\n",
    "    ns_price = pagecontent.find('div',class_='offer__price')\n",
    "    ns_price = ns_price.get_text(strip=True)\n",
    "    ns_price = ns_price[:-1]\n",
    "    price = ns_price.split()\n",
    "    price = ''.join(price)\n",
    "  except:\n",
    "    price = ''\n",
    "\n",
    "  #owner\n",
    "  try:\n",
    "    try:\n",
    "      owner = pagecontent.find('div', class_='owners__name').get_text(strip=True)\n",
    "    except:\n",
    "      owner = pagecontent.find('a', class_='owners__name').get_text(strip=True)\n",
    "  except:\n",
    "    owner = ''\n",
    "    \n",
    "  #phone\n",
    "  try:\n",
    "    chrome_options.add_argument('window-size=1920x1080')\n",
    "    driver = webdriver.Chrome('chromedriver',chrome_options=chrome_options)\n",
    "    driver.get(aprtmt_page)\n",
    "    image = 'screenshotsBefore/'+str(counter)+'.png'\n",
    "    driver.get_screenshot_as_file(image)\n",
    "    sleep(0.5)\n",
    "    show = driver.find_element_by_id('tm-telephone-body').click()\n",
    "    sleep(1)\n",
    "    image = 'screenshotsAfter/'+str(counter)+'.png'\n",
    "    driver.get_screenshot_as_file(image)\n",
    "    try:\n",
    "      ns_phone = driver.find_element_by_class_name('offer__contacts-phones').text\n",
    "      phone = ns_phone.split()\n",
    "      phone = ''.join(phone)\n",
    "    except:\n",
    "      print('can\\'t find ')\n",
    "      show = driver.find_element_by_id('tm-telephone-body').click()\n",
    "      ns_phone = driver.find_element_by_class_name('offer__contacts-phones').text\n",
    "      phone = ns_phone.split()\n",
    "      phone = ''.join(phone)\n",
    "    finally:  \n",
    "      driver.quit()\n",
    "  except:\n",
    "    phone = ''\n",
    "  \n",
    "  #info\n",
    "  info = pagecontent.find_all('div', class_='offer__info-item')\n",
    "  for item in info:\n",
    "    iteminfo = item.find('div', 'offer__info-title')\n",
    "    iteminfo = iteminfo.get_text(strip=True)\n",
    "\n",
    "    if iteminfo=='Город':#city\n",
    "      itemdata = item.find('div', 'offer__advert-short-info')\n",
    "      city = itemdata.get_text(strip=True)\n",
    "      pos_show = city.find('показать на карте')\n",
    "      city = city[:pos_show]\n",
    "    elif iteminfo=='Дом':#building\n",
    "      itemdata = item.find('div', 'offer__advert-short-info')\n",
    "      building = itemdata.get_text(strip=True)\n",
    "    elif iteminfo=='Этаж':#floor\n",
    "      itemdata = item.find('div', 'offer__advert-short-info')\n",
    "      floor = itemdata.get_text(strip=True)  \n",
    "    elif iteminfo=='Площадь':#area\n",
    "      itemdata = item.find('div', 'offer__advert-short-info')\n",
    "      area = itemdata.get_text(strip=True)\n",
    "    elif iteminfo=='Состояние':#status\n",
    "      itemdata = item.find('div', 'offer__advert-short-info')\n",
    "      status = itemdata.get_text(strip=True)\n",
    "    elif iteminfo=='Санузел':#bathroom\n",
    "      itemdata = item.find('div', 'offer__advert-short-info')\n",
    "      bathroom = itemdata.get_text(strip=True)\n",
    "    elif iteminfo=='Балкон':#balcony\n",
    "      itemdata = item.find('div', 'offer__advert-short-info')\n",
    "      balcony = itemdata.get_text(strip=True)\n",
    "  apartment_df.append([title,owner,price,phone,city,building,floor,area,status,bathroom,balcony])\n",
    "\n",
    "  print(counter)\n",
    "\n",
    "\n",
    "print('finished')"
   ]
  },
  {
   "cell_type": "code",
   "execution_count": null,
   "metadata": {
    "colab": {
     "base_uri": "https://localhost:8080/"
    },
    "id": "JPnuTw4WVze8",
    "outputId": "01244e8c-c4c1-40c8-a1ff-1a345dadf1f8"
   },
   "outputs": [],
   "source": [
    "for i in apartment_df:\n",
    "  print(i)"
   ]
  },
  {
   "cell_type": "code",
   "execution_count": null,
   "metadata": {
    "id": "KXNEQmwzeR9N"
   },
   "outputs": [],
   "source": [
    "column_name = ['title','owner','price','phone','city','building','floor','area','status','bathroom','balcony']\n",
    "with open('kv_Esil_raion.csv', \"w\", newline='', encoding=\"utf-8\") as csv_file:\n",
    "        writer = csv.writer(csv_file, delimiter=',')\n",
    "        \n",
    "        writer.writerow(column_name)\n",
    "        \n",
    "        for line in apartment_df:\n",
    "            writer.writerow(line)"
   ]
  },
  {
   "cell_type": "code",
   "execution_count": null,
   "metadata": {
    "id": "VxuNtmTeenMJ"
   },
   "outputs": [],
   "source": [
    "df = pd.read_csv('kv_Esil_raion.csv')"
   ]
  },
  {
   "cell_type": "code",
   "execution_count": null,
   "metadata": {
    "colab": {
     "base_uri": "https://localhost:8080/",
     "height": 1000
    },
    "id": "-VDQgZ7wggRr",
    "outputId": "5f9312ec-5b27-4210-acc6-3e6af3ffb224"
   },
   "outputs": [],
   "source": [
    "df"
   ]
  },
  {
   "cell_type": "code",
   "execution_count": null,
   "metadata": {
    "colab": {
     "base_uri": "https://localhost:8080/"
    },
    "id": "zM6IKeEpgio6",
    "outputId": "7c5cd383-d02b-44fb-9aa0-7adc6957ab6e"
   },
   "outputs": [],
   "source": [
    "df.info()"
   ]
  }
 ],
 "metadata": {
  "colab": {
   "collapsed_sections": [],
   "name": "lab4.ipynb",
   "provenance": []
  },
  "kernelspec": {
   "display_name": "Python 3",
   "language": "python",
   "name": "python3"
  },
  "language_info": {
   "codemirror_mode": {
    "name": "ipython",
    "version": 3
   },
   "file_extension": ".py",
   "mimetype": "text/x-python",
   "name": "python",
   "nbconvert_exporter": "python",
   "pygments_lexer": "ipython3",
   "version": "3.8.5"
  }
 },
 "nbformat": 4,
 "nbformat_minor": 1
}
